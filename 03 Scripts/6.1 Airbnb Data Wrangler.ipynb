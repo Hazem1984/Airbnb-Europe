{
 "cells": [
  {
   "cell_type": "markdown",
   "id": "32ee42e2",
   "metadata": {},
   "source": [
    "### Determinants of Airbnb Prices in European Cities\n",
    "#### 1. Import Data & Libraries \n",
    "#### 2. Dropping unnecessary columns\n",
    "#### 3. Renaming columns\n",
    "#### 4. Data Quality check\n",
    "#### 5. Addressing Missing Values\n",
    "#### 6. Addressing Duplicate values\n",
    "#### 7. Exporting Dataframe"
   ]
  },
  {
   "cell_type": "markdown",
   "id": "99d5bc7a",
   "metadata": {},
   "source": [
    "## 1.Import data & libraries ##"
   ]
  },
  {
   "cell_type": "code",
   "execution_count": 1,
   "id": "80c7e386",
   "metadata": {},
   "outputs": [],
   "source": [
    "import pandas as pd\n",
    "import numpy as np\n",
    "import os\n",
    "import matplotlib.pyplot as plt\n",
    "import seaborn as sns\n",
    "import scipy"
   ]
  },
  {
   "cell_type": "code",
   "execution_count": 2,
   "id": "9729a4f5",
   "metadata": {},
   "outputs": [],
   "source": [
    "##Python shortcut to folder path##\n",
    "path = r'C:\\Users\\hazem\\Master Folder- Airbnb Prices in European Cities'"
   ]
  },
  {
   "cell_type": "code",
   "execution_count": 3,
   "id": "068518fb",
   "metadata": {},
   "outputs": [],
   "source": [
    "## Importing Data Set ##\n",
    "df_Airbnb = pd.read_csv(os.path.join(path, '02 Data', 'Original Data', 'AirBnb_Europe.csv'), index_col = False)"
   ]
  },
  {
   "cell_type": "markdown",
   "id": "40d23dc6",
   "metadata": {},
   "source": [
    "## 2.Dropping unnecessary Columns ##"
   ]
  },
  {
   "cell_type": "code",
   "execution_count": 4,
   "id": "9bdc9b45",
   "metadata": {},
   "outputs": [
    {
     "data": {
      "text/plain": [
       "(51707, 21)"
      ]
     },
     "execution_count": 4,
     "metadata": {},
     "output_type": "execute_result"
    }
   ],
   "source": [
    "df_Airbnb.shape"
   ]
  },
  {
   "cell_type": "code",
   "execution_count": 5,
   "id": "e3fef7f1",
   "metadata": {},
   "outputs": [
    {
     "data": {
      "text/plain": [
       "Index(['city', 'days', 'realSum', 'room_type', 'room_shared', 'room_private',\n",
       "       'person_capacity', 'host_is_superhost', 'multi', 'biz',\n",
       "       'cleanliness_rating', 'guest_satisfaction_overall', 'bedrooms', 'dist',\n",
       "       'metro_dist', 'attr_index', 'attr_index_norm', 'rest_index',\n",
       "       'rest_index_norm', 'lng', 'lat'],\n",
       "      dtype='object')"
      ]
     },
     "execution_count": 5,
     "metadata": {},
     "output_type": "execute_result"
    }
   ],
   "source": [
    "df_Airbnb.columns"
   ]
  },
  {
   "cell_type": "code",
   "execution_count": 6,
   "id": "10a160d0",
   "metadata": {},
   "outputs": [],
   "source": [
    "## Dropping columns ##\n",
    "df_Airbnb = df_Airbnb.drop(columns = ['room_shared', 'room_private', 'host_is_superhost', 'multi', 'biz',\n",
    "                                      'attr_index', 'attr_index_norm', 'rest_index', 'rest_index_norm'])"
   ]
  },
  {
   "cell_type": "markdown",
   "id": "8226e12e",
   "metadata": {},
   "source": [
    "## 3.Renaming columns ##"
   ]
  },
  {
   "cell_type": "code",
   "execution_count": 7,
   "id": "d9049b56",
   "metadata": {},
   "outputs": [],
   "source": [
    "df_Airbnb.rename(columns = {'realSum':'accommodation', 'guest_satisfaction_overall':'guest_rating', 'dist':'city_distance', \n",
    "                           'metro_dist':'metro_distance', 'lng':'longitude', 'lat':'latitude'}, inplace = True)"
   ]
  },
  {
   "cell_type": "code",
   "execution_count": 8,
   "id": "1efd29a0",
   "metadata": {},
   "outputs": [
    {
     "data": {
      "text/plain": [
       "Index(['city', 'days', 'accommodation', 'room_type', 'person_capacity',\n",
       "       'cleanliness_rating', 'guest_rating', 'bedrooms', 'city_distance',\n",
       "       'metro_distance', 'longitude', 'latitude'],\n",
       "      dtype='object')"
      ]
     },
     "execution_count": 8,
     "metadata": {},
     "output_type": "execute_result"
    }
   ],
   "source": [
    "df_Airbnb.columns"
   ]
  },
  {
   "cell_type": "markdown",
   "id": "9511971b",
   "metadata": {},
   "source": [
    "## 4.Data Quality check ##"
   ]
  },
  {
   "cell_type": "code",
   "execution_count": 9,
   "id": "32442f59",
   "metadata": {},
   "outputs": [
    {
     "name": "stdout",
     "output_type": "stream",
     "text": [
      "<class 'pandas.core.frame.DataFrame'>\n",
      "RangeIndex: 51707 entries, 0 to 51706\n",
      "Data columns (total 12 columns):\n",
      " #   Column              Non-Null Count  Dtype  \n",
      "---  ------              --------------  -----  \n",
      " 0   city                51707 non-null  object \n",
      " 1   days                51707 non-null  object \n",
      " 2   accommodation       51707 non-null  int64  \n",
      " 3   room_type           51707 non-null  object \n",
      " 4   person_capacity     51707 non-null  int64  \n",
      " 5   cleanliness_rating  51707 non-null  int64  \n",
      " 6   guest_rating        51707 non-null  int64  \n",
      " 7   bedrooms            51707 non-null  int64  \n",
      " 8   city_distance       51707 non-null  float64\n",
      " 9   metro_distance      51707 non-null  float64\n",
      " 10  longitude           51707 non-null  float64\n",
      " 11  latitude            51707 non-null  float64\n",
      "dtypes: float64(4), int64(5), object(3)\n",
      "memory usage: 4.7+ MB\n"
     ]
    }
   ],
   "source": [
    "df_Airbnb.info()"
   ]
  },
  {
   "cell_type": "code",
   "execution_count": 10,
   "id": "8e1921fd",
   "metadata": {},
   "outputs": [
    {
     "data": {
      "text/html": [
       "<div>\n",
       "<style scoped>\n",
       "    .dataframe tbody tr th:only-of-type {\n",
       "        vertical-align: middle;\n",
       "    }\n",
       "\n",
       "    .dataframe tbody tr th {\n",
       "        vertical-align: top;\n",
       "    }\n",
       "\n",
       "    .dataframe thead th {\n",
       "        text-align: right;\n",
       "    }\n",
       "</style>\n",
       "<table border=\"1\" class=\"dataframe\">\n",
       "  <thead>\n",
       "    <tr style=\"text-align: right;\">\n",
       "      <th></th>\n",
       "      <th>accommodation</th>\n",
       "      <th>person_capacity</th>\n",
       "      <th>cleanliness_rating</th>\n",
       "      <th>guest_rating</th>\n",
       "      <th>bedrooms</th>\n",
       "      <th>city_distance</th>\n",
       "      <th>metro_distance</th>\n",
       "      <th>longitude</th>\n",
       "      <th>latitude</th>\n",
       "    </tr>\n",
       "  </thead>\n",
       "  <tbody>\n",
       "    <tr>\n",
       "      <th>count</th>\n",
       "      <td>51707.000000</td>\n",
       "      <td>51707.000000</td>\n",
       "      <td>51707.000000</td>\n",
       "      <td>51707.000000</td>\n",
       "      <td>51707.00000</td>\n",
       "      <td>51707.000000</td>\n",
       "      <td>51707.000000</td>\n",
       "      <td>51707.000000</td>\n",
       "      <td>51707.000000</td>\n",
       "    </tr>\n",
       "    <tr>\n",
       "      <th>mean</th>\n",
       "      <td>279.886398</td>\n",
       "      <td>3.161661</td>\n",
       "      <td>9.390624</td>\n",
       "      <td>92.628232</td>\n",
       "      <td>1.15876</td>\n",
       "      <td>3.191628</td>\n",
       "      <td>0.681649</td>\n",
       "      <td>7.426068</td>\n",
       "      <td>45.671128</td>\n",
       "    </tr>\n",
       "    <tr>\n",
       "      <th>std</th>\n",
       "      <td>327.947159</td>\n",
       "      <td>1.298545</td>\n",
       "      <td>0.954868</td>\n",
       "      <td>8.945531</td>\n",
       "      <td>0.62741</td>\n",
       "      <td>2.394007</td>\n",
       "      <td>0.858607</td>\n",
       "      <td>9.799725</td>\n",
       "      <td>5.249263</td>\n",
       "    </tr>\n",
       "    <tr>\n",
       "      <th>min</th>\n",
       "      <td>35.000000</td>\n",
       "      <td>2.000000</td>\n",
       "      <td>2.000000</td>\n",
       "      <td>20.000000</td>\n",
       "      <td>0.00000</td>\n",
       "      <td>0.000000</td>\n",
       "      <td>0.000000</td>\n",
       "      <td>-9.226340</td>\n",
       "      <td>37.953000</td>\n",
       "    </tr>\n",
       "    <tr>\n",
       "      <th>25%</th>\n",
       "      <td>149.000000</td>\n",
       "      <td>2.000000</td>\n",
       "      <td>9.000000</td>\n",
       "      <td>90.000000</td>\n",
       "      <td>1.00000</td>\n",
       "      <td>1.500000</td>\n",
       "      <td>0.200000</td>\n",
       "      <td>-0.072500</td>\n",
       "      <td>41.399510</td>\n",
       "    </tr>\n",
       "    <tr>\n",
       "      <th>50%</th>\n",
       "      <td>211.000000</td>\n",
       "      <td>3.000000</td>\n",
       "      <td>10.000000</td>\n",
       "      <td>95.000000</td>\n",
       "      <td>1.00000</td>\n",
       "      <td>2.600000</td>\n",
       "      <td>0.400000</td>\n",
       "      <td>4.873000</td>\n",
       "      <td>47.506690</td>\n",
       "    </tr>\n",
       "    <tr>\n",
       "      <th>75%</th>\n",
       "      <td>320.000000</td>\n",
       "      <td>4.000000</td>\n",
       "      <td>10.000000</td>\n",
       "      <td>99.000000</td>\n",
       "      <td>1.00000</td>\n",
       "      <td>4.300000</td>\n",
       "      <td>0.700000</td>\n",
       "      <td>13.518825</td>\n",
       "      <td>51.471885</td>\n",
       "    </tr>\n",
       "    <tr>\n",
       "      <th>max</th>\n",
       "      <td>18545.000000</td>\n",
       "      <td>6.000000</td>\n",
       "      <td>10.000000</td>\n",
       "      <td>100.000000</td>\n",
       "      <td>10.00000</td>\n",
       "      <td>25.300000</td>\n",
       "      <td>14.300000</td>\n",
       "      <td>23.786020</td>\n",
       "      <td>52.641410</td>\n",
       "    </tr>\n",
       "  </tbody>\n",
       "</table>\n",
       "</div>"
      ],
      "text/plain": [
       "       accommodation  person_capacity  cleanliness_rating  guest_rating  \\\n",
       "count   51707.000000     51707.000000        51707.000000  51707.000000   \n",
       "mean      279.886398         3.161661            9.390624     92.628232   \n",
       "std       327.947159         1.298545            0.954868      8.945531   \n",
       "min        35.000000         2.000000            2.000000     20.000000   \n",
       "25%       149.000000         2.000000            9.000000     90.000000   \n",
       "50%       211.000000         3.000000           10.000000     95.000000   \n",
       "75%       320.000000         4.000000           10.000000     99.000000   \n",
       "max     18545.000000         6.000000           10.000000    100.000000   \n",
       "\n",
       "          bedrooms  city_distance  metro_distance     longitude      latitude  \n",
       "count  51707.00000   51707.000000    51707.000000  51707.000000  51707.000000  \n",
       "mean       1.15876       3.191628        0.681649      7.426068     45.671128  \n",
       "std        0.62741       2.394007        0.858607      9.799725      5.249263  \n",
       "min        0.00000       0.000000        0.000000     -9.226340     37.953000  \n",
       "25%        1.00000       1.500000        0.200000     -0.072500     41.399510  \n",
       "50%        1.00000       2.600000        0.400000      4.873000     47.506690  \n",
       "75%        1.00000       4.300000        0.700000     13.518825     51.471885  \n",
       "max       10.00000      25.300000       14.300000     23.786020     52.641410  "
      ]
     },
     "execution_count": 10,
     "metadata": {},
     "output_type": "execute_result"
    }
   ],
   "source": [
    "df_Airbnb.describe()"
   ]
  },
  {
   "cell_type": "markdown",
   "id": "9c189d3d",
   "metadata": {},
   "source": [
    "## 5.Addressing Missing Values ##"
   ]
  },
  {
   "cell_type": "code",
   "execution_count": 11,
   "id": "ade3f15a",
   "metadata": {},
   "outputs": [
    {
     "data": {
      "text/plain": [
       "city                  0\n",
       "days                  0\n",
       "accommodation         0\n",
       "room_type             0\n",
       "person_capacity       0\n",
       "cleanliness_rating    0\n",
       "guest_rating          0\n",
       "bedrooms              0\n",
       "city_distance         0\n",
       "metro_distance        0\n",
       "longitude             0\n",
       "latitude              0\n",
       "dtype: int64"
      ]
     },
     "execution_count": 11,
     "metadata": {},
     "output_type": "execute_result"
    }
   ],
   "source": [
    "df_Airbnb.isnull().sum()"
   ]
  },
  {
   "cell_type": "markdown",
   "id": "c8a134fc",
   "metadata": {},
   "source": [
    "No missing value found"
   ]
  },
  {
   "cell_type": "markdown",
   "id": "69a222c8",
   "metadata": {},
   "source": [
    "## 6.Addressing Duplicate values ##"
   ]
  },
  {
   "cell_type": "code",
   "execution_count": 12,
   "id": "29a232e9",
   "metadata": {},
   "outputs": [],
   "source": [
    "df_Airbnb_dups = df_Airbnb[df_Airbnb.duplicated()]"
   ]
  },
  {
   "cell_type": "code",
   "execution_count": 13,
   "id": "81b7d8f9",
   "metadata": {},
   "outputs": [
    {
     "data": {
      "text/html": [
       "<div>\n",
       "<style scoped>\n",
       "    .dataframe tbody tr th:only-of-type {\n",
       "        vertical-align: middle;\n",
       "    }\n",
       "\n",
       "    .dataframe tbody tr th {\n",
       "        vertical-align: top;\n",
       "    }\n",
       "\n",
       "    .dataframe thead th {\n",
       "        text-align: right;\n",
       "    }\n",
       "</style>\n",
       "<table border=\"1\" class=\"dataframe\">\n",
       "  <thead>\n",
       "    <tr style=\"text-align: right;\">\n",
       "      <th></th>\n",
       "      <th>city</th>\n",
       "      <th>days</th>\n",
       "      <th>accommodation</th>\n",
       "      <th>room_type</th>\n",
       "      <th>person_capacity</th>\n",
       "      <th>cleanliness_rating</th>\n",
       "      <th>guest_rating</th>\n",
       "      <th>bedrooms</th>\n",
       "      <th>city_distance</th>\n",
       "      <th>metro_distance</th>\n",
       "      <th>longitude</th>\n",
       "      <th>latitude</th>\n",
       "    </tr>\n",
       "  </thead>\n",
       "  <tbody>\n",
       "    <tr>\n",
       "      <th>993</th>\n",
       "      <td>Amsterdam</td>\n",
       "      <td>Weekdays</td>\n",
       "      <td>332</td>\n",
       "      <td>Private room</td>\n",
       "      <td>2</td>\n",
       "      <td>10</td>\n",
       "      <td>99</td>\n",
       "      <td>1</td>\n",
       "      <td>3.7</td>\n",
       "      <td>0.5</td>\n",
       "      <td>4.872</td>\n",
       "      <td>52.343</td>\n",
       "    </tr>\n",
       "    <tr>\n",
       "      <th>2303</th>\n",
       "      <td>Athens</td>\n",
       "      <td>Weekdays</td>\n",
       "      <td>82</td>\n",
       "      <td>Private room</td>\n",
       "      <td>2</td>\n",
       "      <td>10</td>\n",
       "      <td>99</td>\n",
       "      <td>1</td>\n",
       "      <td>1.5</td>\n",
       "      <td>0.5</td>\n",
       "      <td>23.730</td>\n",
       "      <td>37.988</td>\n",
       "    </tr>\n",
       "    <tr>\n",
       "      <th>2579</th>\n",
       "      <td>Athens</td>\n",
       "      <td>Weekdays</td>\n",
       "      <td>151</td>\n",
       "      <td>Entire home/apt</td>\n",
       "      <td>6</td>\n",
       "      <td>10</td>\n",
       "      <td>100</td>\n",
       "      <td>2</td>\n",
       "      <td>3.2</td>\n",
       "      <td>0.6</td>\n",
       "      <td>23.761</td>\n",
       "      <td>37.996</td>\n",
       "    </tr>\n",
       "    <tr>\n",
       "      <th>3104</th>\n",
       "      <td>Athens</td>\n",
       "      <td>Weekdays</td>\n",
       "      <td>110</td>\n",
       "      <td>Entire home/apt</td>\n",
       "      <td>3</td>\n",
       "      <td>10</td>\n",
       "      <td>97</td>\n",
       "      <td>0</td>\n",
       "      <td>1.0</td>\n",
       "      <td>0.3</td>\n",
       "      <td>23.732</td>\n",
       "      <td>37.984</td>\n",
       "    </tr>\n",
       "    <tr>\n",
       "      <th>3555</th>\n",
       "      <td>Athens</td>\n",
       "      <td>Weekdays</td>\n",
       "      <td>185</td>\n",
       "      <td>Entire home/apt</td>\n",
       "      <td>6</td>\n",
       "      <td>10</td>\n",
       "      <td>100</td>\n",
       "      <td>1</td>\n",
       "      <td>1.8</td>\n",
       "      <td>0.2</td>\n",
       "      <td>23.719</td>\n",
       "      <td>37.986</td>\n",
       "    </tr>\n",
       "    <tr>\n",
       "      <th>...</th>\n",
       "      <td>...</td>\n",
       "      <td>...</td>\n",
       "      <td>...</td>\n",
       "      <td>...</td>\n",
       "      <td>...</td>\n",
       "      <td>...</td>\n",
       "      <td>...</td>\n",
       "      <td>...</td>\n",
       "      <td>...</td>\n",
       "      <td>...</td>\n",
       "      <td>...</td>\n",
       "      <td>...</td>\n",
       "    </tr>\n",
       "    <tr>\n",
       "      <th>50740</th>\n",
       "      <td>Vienna</td>\n",
       "      <td>Weekends</td>\n",
       "      <td>290</td>\n",
       "      <td>Entire home/apt</td>\n",
       "      <td>2</td>\n",
       "      <td>10</td>\n",
       "      <td>100</td>\n",
       "      <td>0</td>\n",
       "      <td>2.8</td>\n",
       "      <td>0.2</td>\n",
       "      <td>16.408</td>\n",
       "      <td>48.218</td>\n",
       "    </tr>\n",
       "    <tr>\n",
       "      <th>50743</th>\n",
       "      <td>Vienna</td>\n",
       "      <td>Weekends</td>\n",
       "      <td>336</td>\n",
       "      <td>Entire home/apt</td>\n",
       "      <td>4</td>\n",
       "      <td>10</td>\n",
       "      <td>100</td>\n",
       "      <td>1</td>\n",
       "      <td>2.8</td>\n",
       "      <td>0.2</td>\n",
       "      <td>16.408</td>\n",
       "      <td>48.218</td>\n",
       "    </tr>\n",
       "    <tr>\n",
       "      <th>50744</th>\n",
       "      <td>Vienna</td>\n",
       "      <td>Weekends</td>\n",
       "      <td>336</td>\n",
       "      <td>Entire home/apt</td>\n",
       "      <td>4</td>\n",
       "      <td>10</td>\n",
       "      <td>100</td>\n",
       "      <td>1</td>\n",
       "      <td>2.8</td>\n",
       "      <td>0.2</td>\n",
       "      <td>16.408</td>\n",
       "      <td>48.218</td>\n",
       "    </tr>\n",
       "    <tr>\n",
       "      <th>51452</th>\n",
       "      <td>Vienna</td>\n",
       "      <td>Weekends</td>\n",
       "      <td>319</td>\n",
       "      <td>Entire home/apt</td>\n",
       "      <td>3</td>\n",
       "      <td>10</td>\n",
       "      <td>100</td>\n",
       "      <td>1</td>\n",
       "      <td>2.3</td>\n",
       "      <td>0.2</td>\n",
       "      <td>16.356</td>\n",
       "      <td>48.191</td>\n",
       "    </tr>\n",
       "    <tr>\n",
       "      <th>51467</th>\n",
       "      <td>Vienna</td>\n",
       "      <td>Weekends</td>\n",
       "      <td>160</td>\n",
       "      <td>Private room</td>\n",
       "      <td>2</td>\n",
       "      <td>10</td>\n",
       "      <td>97</td>\n",
       "      <td>1</td>\n",
       "      <td>1.2</td>\n",
       "      <td>0.3</td>\n",
       "      <td>16.387</td>\n",
       "      <td>48.203</td>\n",
       "    </tr>\n",
       "  </tbody>\n",
       "</table>\n",
       "<p>96 rows × 12 columns</p>\n",
       "</div>"
      ],
      "text/plain": [
       "            city      days  accommodation        room_type  person_capacity  \\\n",
       "993    Amsterdam  Weekdays            332     Private room                2   \n",
       "2303      Athens  Weekdays             82     Private room                2   \n",
       "2579      Athens  Weekdays            151  Entire home/apt                6   \n",
       "3104      Athens  Weekdays            110  Entire home/apt                3   \n",
       "3555      Athens  Weekdays            185  Entire home/apt                6   \n",
       "...          ...       ...            ...              ...              ...   \n",
       "50740     Vienna  Weekends            290  Entire home/apt                2   \n",
       "50743     Vienna  Weekends            336  Entire home/apt                4   \n",
       "50744     Vienna  Weekends            336  Entire home/apt                4   \n",
       "51452     Vienna  Weekends            319  Entire home/apt                3   \n",
       "51467     Vienna  Weekends            160     Private room                2   \n",
       "\n",
       "       cleanliness_rating  guest_rating  bedrooms  city_distance  \\\n",
       "993                    10            99         1            3.7   \n",
       "2303                   10            99         1            1.5   \n",
       "2579                   10           100         2            3.2   \n",
       "3104                   10            97         0            1.0   \n",
       "3555                   10           100         1            1.8   \n",
       "...                   ...           ...       ...            ...   \n",
       "50740                  10           100         0            2.8   \n",
       "50743                  10           100         1            2.8   \n",
       "50744                  10           100         1            2.8   \n",
       "51452                  10           100         1            2.3   \n",
       "51467                  10            97         1            1.2   \n",
       "\n",
       "       metro_distance  longitude  latitude  \n",
       "993               0.5      4.872    52.343  \n",
       "2303              0.5     23.730    37.988  \n",
       "2579              0.6     23.761    37.996  \n",
       "3104              0.3     23.732    37.984  \n",
       "3555              0.2     23.719    37.986  \n",
       "...               ...        ...       ...  \n",
       "50740             0.2     16.408    48.218  \n",
       "50743             0.2     16.408    48.218  \n",
       "50744             0.2     16.408    48.218  \n",
       "51452             0.2     16.356    48.191  \n",
       "51467             0.3     16.387    48.203  \n",
       "\n",
       "[96 rows x 12 columns]"
      ]
     },
     "execution_count": 13,
     "metadata": {},
     "output_type": "execute_result"
    }
   ],
   "source": [
    "df_Airbnb_dups"
   ]
  },
  {
   "cell_type": "code",
   "execution_count": 14,
   "id": "45156942",
   "metadata": {},
   "outputs": [],
   "source": [
    "## Dropping Duplicates ##\n",
    "df_Airbnb_clean = df_Airbnb.drop_duplicates()"
   ]
  },
  {
   "cell_type": "code",
   "execution_count": 15,
   "id": "5c428653",
   "metadata": {},
   "outputs": [
    {
     "data": {
      "text/plain": [
       "(51611, 12)"
      ]
     },
     "execution_count": 15,
     "metadata": {},
     "output_type": "execute_result"
    }
   ],
   "source": [
    "df_Airbnb_clean.shape"
   ]
  },
  {
   "cell_type": "markdown",
   "id": "31d87149",
   "metadata": {},
   "source": [
    "## 7.Exporting Dataframe ##"
   ]
  },
  {
   "cell_type": "code",
   "execution_count": 16,
   "id": "9c8edfe7",
   "metadata": {},
   "outputs": [],
   "source": [
    "df_Airbnb_clean.to_csv(os.path.join(path, '02 Data', 'Original Data', 'Airbnb_Europe_Clean.csv'))"
   ]
  },
  {
   "cell_type": "code",
   "execution_count": null,
   "id": "91d8a0f4",
   "metadata": {},
   "outputs": [],
   "source": []
  }
 ],
 "metadata": {
  "kernelspec": {
   "display_name": "Python 3 (ipykernel)",
   "language": "python",
   "name": "python3"
  },
  "language_info": {
   "codemirror_mode": {
    "name": "ipython",
    "version": 3
   },
   "file_extension": ".py",
   "mimetype": "text/x-python",
   "name": "python",
   "nbconvert_exporter": "python",
   "pygments_lexer": "ipython3",
   "version": "3.9.13"
  }
 },
 "nbformat": 4,
 "nbformat_minor": 5
}
